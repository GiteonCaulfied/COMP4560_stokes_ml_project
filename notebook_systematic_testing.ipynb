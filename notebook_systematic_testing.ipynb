{
 "cells": [
  {
   "cell_type": "code",
   "execution_count": 1,
   "id": "3f60a2ef",
   "metadata": {},
   "outputs": [],
   "source": [
    "import papermill as pm"
   ]
  },
  {
   "cell_type": "code",
   "execution_count": 2,
   "id": "01b31884",
   "metadata": {},
   "outputs": [
    {
     "name": "stdout",
     "output_type": "stream",
     "text": [
      "Model 1: \n",
      "Input Path:  Data/Reduced/small_8_1k-inv.npy\n",
      "Output Path:  Data/Reduced/small_8_1k-geoid.npy\n",
      "Hidden Layers Nuerons:  20/30\n",
      "Activation Function:  ReLU\n",
      "Loss Function:  MSELoss\n",
      "Total epochs:  200\n",
      "Batch size:  16\n",
      "Optimizer Learning rate:  0.0001\n",
      "Accurate Loss Baseline:  0.01\n",
      "Scaler for the output data:  MinMax\n",
      "Name for this model:  invGeoid\n",
      "\n"
     ]
    },
    {
     "data": {
      "application/vnd.jupyter.widget-view+json": {
       "model_id": "4ee350b4d781473d80304d90e8349244",
       "version_major": 2,
       "version_minor": 0
      },
      "text/plain": [
       "Executing:   0%|          | 0/11 [00:00<?, ?cell/s]"
      ]
     },
     "metadata": {},
     "output_type": "display_data"
    },
    {
     "name": "stdout",
     "output_type": "stream",
     "text": [
      "\n",
      "Model 2: \n",
      "Input Path:  Data/Geoid/new_results_1k_zero/zero_1k-inv.npy\n",
      "Output Path:  Data/Geoid/new_results_1k_zero/zero_1k-geoid.npy\n",
      "Hidden Layers Nuerons:  200/160/120/80\n",
      "Activation Function:  ReLU\n",
      "Loss Function:  MSELoss\n",
      "Total epochs:  200\n",
      "Batch size:  16\n",
      "Optimizer Learning rate:  0.0001\n",
      "Accurate Loss Baseline:  0.01\n",
      "Scaler for the output data:  MinMax\n",
      "Name for this model:  1k_zero\n",
      "\n"
     ]
    },
    {
     "data": {
      "application/vnd.jupyter.widget-view+json": {
       "model_id": "aa8f5bb2a6d24bb1abab96d7602990a6",
       "version_major": 2,
       "version_minor": 0
      },
      "text/plain": [
       "Executing:   0%|          | 0/11 [00:00<?, ?cell/s]"
      ]
     },
     "metadata": {},
     "output_type": "display_data"
    },
    {
     "name": "stdout",
     "output_type": "stream",
     "text": [
      "\n"
     ]
    }
   ],
   "source": [
    "# Using readlines()\n",
    "file1 = open('ModelList.txt', 'r')\n",
    "Lines = file1.readlines()\n",
    " \n",
    "count = 0\n",
    "# Strips the newline character\n",
    "for line in Lines:\n",
    "    if line[0] != '#':\n",
    "        \n",
    "        ip, op, hidden_layers_string, act_function, loss_type, n_epoch, batch_size, lr, accurate_loss_baseline,output_scaler,model_name = line.strip().split(',')\n",
    "        hidden_layers_list = [int(x) for x in hidden_layers_string.split('/')]\n",
    "        \n",
    "        count += 1\n",
    "        print(\"Model {}: \".format(count))\n",
    "        print(\"Input Path: \", ip)\n",
    "        print(\"Output Path: \", op)\n",
    "        print(\"Hidden Layers Nuerons: \", hidden_layers_string)\n",
    "        print(\"Activation Function: \", act_function)\n",
    "        print(\"Loss Function: \", loss_type)\n",
    "        print(\"Total epochs: \", n_epoch)\n",
    "        print(\"Batch size: \", batch_size)\n",
    "        print(\"Optimizer Learning rate: \", lr)\n",
    "        print(\"Accurate Loss Baseline: \", accurate_loss_baseline)\n",
    "        print(\"Scaler for the output data: \", output_scaler)\n",
    "        print(\"Name for this model: \", model_name)\n",
    "        print()\n",
    "        \n",
    "        output_name =  '1D_results_notebook/st1D-' + str(model_name) + '.ipynb'\n",
    "        \n",
    "        pm.execute_notebook(\n",
    "            '1D_results_notebook/st1D_template.ipynb',\n",
    "            output_name,\n",
    "            parameters = dict(input_PATH=ip,\n",
    "                              output_PATH=op,\n",
    "                              hidden_layers_list=hidden_layers_list,\n",
    "                              act_function=act_function,\n",
    "                              loss_type=loss_type,\n",
    "                              n_epoch=int(n_epoch),\n",
    "                              batch_size=int(batch_size),\n",
    "                              lr=float(lr),\n",
    "                              accurate_loss_baseline = float(accurate_loss_baseline),\n",
    "                              output_scaler=output_scaler,\n",
    "                              model_name=model_name)\n",
    "        )\n",
    "        \n",
    "        print()"
   ]
  },
  {
   "cell_type": "code",
   "execution_count": null,
   "id": "a2850f34",
   "metadata": {},
   "outputs": [],
   "source": []
  }
 ],
 "metadata": {
  "kernelspec": {
   "display_name": "Python 3",
   "language": "python",
   "name": "python3"
  },
  "language_info": {
   "codemirror_mode": {
    "name": "ipython",
    "version": 3
   },
   "file_extension": ".py",
   "mimetype": "text/x-python",
   "name": "python",
   "nbconvert_exporter": "python",
   "pygments_lexer": "ipython3",
   "version": "3.8.8"
  }
 },
 "nbformat": 4,
 "nbformat_minor": 5
}
